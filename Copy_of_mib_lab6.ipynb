{
  "nbformat": 4,
  "nbformat_minor": 0,
  "metadata": {
    "colab": {
      "provenance": [],
      "include_colab_link": true
    },
    "kernelspec": {
      "name": "python3",
      "display_name": "Python 3"
    },
    "language_info": {
      "name": "python"
    }
  },
  "cells": [
    {
      "cell_type": "markdown",
      "metadata": {
        "id": "view-in-github",
        "colab_type": "text"
      },
      "source": [
        "<a href=\"https://colab.research.google.com/github/ByRocking/JocGrafica/blob/main/Copy_of_mib_lab6.ipynb\" target=\"_parent\"><img src=\"https://colab.research.google.com/assets/colab-badge.svg\" alt=\"Open In Colab\"/></a>"
      ]
    },
    {
      "cell_type": "markdown",
      "source": [
        "# Laborator 6\n",
        "\n",
        "În cadrul acestui laborator, vom continua studiul algoritmilor evolutivi, concentrându-ne în detaliu pe diferite moduri de reprezentare a soluțiilor și pe algoritmi specializați.\n",
        "\n",
        "Vom începe prin aprofundarea reprezentării de tip permutație, soluționând [problema damelor](https://ro.wikipedia.org/wiki/Problema_damelor) (varianta generală) cu biblioteca DEAP și analizând operatorii specifici.\n",
        "\n",
        "Apoi, vom introduce o tehnică puternică și flexibilă: reprezentarea cu [chei aleatoare (random keys)](https://kalami.medium.com/understanding-random-key-encoding-a-simple-approach-to-solving-complex-optimization-problems-ab17ee028f66). Vom explora cum funcționează aceasta și vom testa metoda [Biased Random Key Genetic Algorithm (BRKGA)](https://www.sciencedirect.com/science/article/pii/S0377221724002303) folosind biblioteca [`pymoo`](https://pymoo.org/algorithms/soo/brkga.html) pentru aceeași problemă a damelor."
      ],
      "metadata": {
        "id": "onZEcoJp278q"
      }
    },
    {
      "cell_type": "markdown",
      "source": [
        "## Partea I: Reprezentarea prin permutări cu DEAP\n",
        "\n",
        "Încă odată, începem prin instalarea DEAP, folosind comanda `pip install`:"
      ],
      "metadata": {
        "id": "teUYhd404Adx"
      }
    },
    {
      "cell_type": "code",
      "execution_count": null,
      "metadata": {
        "colab": {
          "base_uri": "https://localhost:8080/"
        },
        "id": "7KL6FwvA27DS",
        "outputId": "9a50195b-1ab7-4494-8f25-6395ed3f17e9"
      },
      "outputs": [
        {
          "output_type": "stream",
          "name": "stdout",
          "text": [
            "Collecting deap\n",
            "  Downloading deap-1.4.3-cp311-cp311-manylinux_2_5_x86_64.manylinux1_x86_64.manylinux_2_17_x86_64.manylinux2014_x86_64.whl.metadata (13 kB)\n",
            "Requirement already satisfied: numpy in /usr/local/lib/python3.11/dist-packages (from deap) (2.0.2)\n",
            "Downloading deap-1.4.3-cp311-cp311-manylinux_2_5_x86_64.manylinux1_x86_64.manylinux_2_17_x86_64.manylinux2014_x86_64.whl (135 kB)\n",
            "\u001b[2K   \u001b[90m━━━━━━━━━━━━━━━━━━━━━━━━━━━━━━━━━━━━━━━━\u001b[0m \u001b[32m135.6/135.6 kB\u001b[0m \u001b[31m3.8 MB/s\u001b[0m eta \u001b[36m0:00:00\u001b[0m\n",
            "\u001b[?25hInstalling collected packages: deap\n",
            "Successfully installed deap-1.4.3\n"
          ]
        }
      ],
      "source": [
        "!pip install deap"
      ]
    },
    {
      "cell_type": "markdown",
      "source": [
        "Importarea componentelor și librăriilor necesare:"
      ],
      "metadata": {
        "id": "en7J7LXG4a--"
      }
    },
    {
      "cell_type": "code",
      "source": [
        "from deap import algorithms\n",
        "from deap import base\n",
        "from deap import creator\n",
        "from deap import tools\n",
        "\n",
        "import numpy as np\n",
        "import random"
      ],
      "metadata": {
        "id": "3BFmM40k4N3o"
      },
      "execution_count": null,
      "outputs": []
    },
    {
      "cell_type": "markdown",
      "source": [
        "### Problema celor N dame\n",
        "\n",
        "Conform [descrierii](https://ro.wikipedia.org/wiki/Problema_damelor):\n",
        "Problema damelor implică plasarea a N dame pe o tablă de șah de NxN astfel încât să nu existe două dame care se amenință reciproc. Aceasta înseamnă că nicio pereche de două dame nu trebuie să fie pe aceeași linie, pe aceeași coloană sau pe aceeași diagonală.\n",
        "\n",
        "**Reprezentarea soluției:**\n",
        "Dacă fiecărei dame îi este prealocată o coloană distinctă (de la 0 la N-1), problema se reduce la a găsi pe ce rând (linie) se plasează fiecare damă, astfel încât nicio damă să nu fie pe același rând sau pe aceeași diagonală cu alta. O astfel de configurație poate fi reprezentată printr-o permutație de lungime N. De exemplu, pentru N=4, individul `[1, 3, 0, 2]` înseamnă:\n",
        "*   Dama de pe coloana 0 este pe rândul 1.\n",
        "*   Dama de pe coloana 1 este pe rândul 3.\n",
        "*   Dama de pe coloana 2 este pe rândul 0.\n",
        "*   Dama de pe coloana 3 este pe rândul 2.\n",
        "\n",
        "Această reprezentare asigură automat că nu există două dame pe aceeași coloană și nici pe același rând.\n",
        "\n",
        "**Funcția de fitness:**\n",
        "Vom număra câte perechi de dame se atacă reciproc pe diagonală. Cu ajutorul algoritmului evolutiv, vom căuta configurația ce minimizează numărul total al conflictelor. Soluția optimă a problemei are 0 conflicte.\n",
        "\n",
        "**Formularea ca problemă de optimizare:**\n",
        "*   **Variabile de decizie:** O permutație a rândurilor pe tablă pentru fiecare damă (coloanele fiind fixe și distincte).\n",
        "*   **Funcția obiectiv:** Minimizarea numărului total de conflicte pe diagonale."
      ],
      "metadata": {
        "id": "PMrxmKJa4jaB"
      }
    },
    {
      "cell_type": "code",
      "source": [
        "def checkConflicts(individual_permutation):\n",
        "  \"\"\"\n",
        "  Calculează numărul de conflicte pe diagonale pentru o configurație dată.\n",
        "  'individual_permutation' este o listă unde indexul reprezintă coloana\n",
        "  iar valoarea reprezintă rândul damei.\n",
        "  \"\"\"\n",
        "  n = len(individual_permutation)\n",
        "  if n == 0:\n",
        "      return (float('inf'),) # Caz special pentru individ gol\n",
        "\n",
        "  # Vom folosi două array-uri pentru a număra damele pe fiecare diagonală.\n",
        "  # Diagonalele stânga-sus spre dreapta-jos: suma coordonatelor (linie + coloană) este constantă.\n",
        "  # Diagonalele dreapta-sus spre stânga-jos: diferența coordonatelor (linie - coloană) este constantă.\n",
        "  # Pentru a evita indecși negativi, putem ajusta (linie - coloană + (n-1)).\n",
        "\n",
        "  left_diagonal_counts = np.zeros(2 * n - 1, dtype=int) # Indecși de la 0 la 2n-2\n",
        "  right_diagonal_counts = np.zeros(2 * n - 1, dtype=int) # Indecși de la 0 la 2n-2\n",
        "\n",
        "  # Calculăm numărul de dame pe fiecare diagonală\n",
        "  for col in range(n):\n",
        "      row = individual_permutation[col]\n",
        "      left_diagonal_counts[row + col] += 1\n",
        "      right_diagonal_counts[row - col + (n - 1)] += 1 # Ajustare pentru a avea indecși pozitivi\n",
        "\n",
        "  # Calculăm numărul de conflicte\n",
        "  # Dacă pe o diagonală sunt k dame, atunci sunt k*(k-1)/2 perechi,\n",
        "  # sau, mai simplu, (k-1) conflicte dacă numărăm fiecare damă implicată o dată după prima.\n",
        "  numConflicts = 0\n",
        "  for i in range(2 * n - 1):\n",
        "      if left_diagonal_counts[i] > 1:\n",
        "            numConflicts += (left_diagonal_counts[i] * (left_diagonal_counts[i] - 1)) / 2\n",
        "      if right_diagonal_counts[i] > 1:\n",
        "            numConflicts += (right_diagonal_counts[i] * (right_diagonal_counts[i] - 1)) / 2\n",
        "\n",
        "  return numConflicts, # DEAP așteaptă un tuplu ca rezultat pentru fitness\n"
      ],
      "metadata": {
        "id": "wN32GXOZ4is1"
      },
      "execution_count": null,
      "outputs": []
    },
    {
      "cell_type": "markdown",
      "source": [
        "Definim o funcție pentru afișarea (pe tablă) a unei configurații codificate."
      ],
      "metadata": {
        "id": "PFoFhgDk462A"
      }
    },
    {
      "cell_type": "code",
      "source": [
        "def displayBoard(individual_permutation):\n",
        "  n = len(individual_permutation)\n",
        "  board = [['.' for _ in range(n)] for _ in range(n)]\n",
        "\n",
        "  # individual_permutation[col] = row\n",
        "  for col in range(n):\n",
        "    row = individual_permutation[col]\n",
        "    # Inversăm afișarea rândurilor pentru o vizualizare standard a tablei de șah\n",
        "    # (rândul 0 jos, rândul n-1 sus)\n",
        "    # Dar, convențional, în programare, rândul 0 e sus. Vom păstra convenția de programare.\n",
        "    # Dacă individual_permutation[col] = row, atunci board[row][col] = 'Q'\n",
        "    board[row][col] = 'Q'\n",
        "\n",
        "  # Afișăm tabla cu rândul 0 sus\n",
        "  for i in range(n):\n",
        "    print(' '.join(board[i]))\n",
        "  print(\"-\" * (2*n -1)) # Separator"
      ],
      "metadata": {
        "id": "kwhn1xFL41qZ"
      },
      "execution_count": null,
      "outputs": []
    },
    {
      "cell_type": "markdown",
      "source": [
        "Testarea funcțiilor `checkConflicts` și `displayBoard`:"
      ],
      "metadata": {
        "id": "nodMNOF_5BPW"
      }
    },
    {
      "cell_type": "code",
      "source": [
        "print(\"Test 1: Configurație cu multe conflicte (taote damele pe diagonala principală)\")\n",
        "ind_diag_principala = list(range(8)) # Dame pe diagonala principală (0,0), (1,1), ...\n",
        "# Permutația corespunzătoare: [0, 1, 2, 3, 4, 5, 6, 7]\n",
        "# Dama din col 0 e pe rândul 0, dama din col 1 e pe rândul 1 etc.\n",
        "displayBoard(ind_diag_principala)\n",
        "print(f\"Conflicte: {checkConflicts(ind_diag_principala)[0]}\") # Ar trebui să dea multe conflicte\n",
        "\n",
        "print(\"\\nTest 2: O soluție cunoscută pentru 8 dame\")\n",
        "ind_solutie_8_dame = [3, 6, 2, 7, 1, 4, 0, 5] # O soluție validă\n",
        "# Dama col 0 -> rând 3\n",
        "# Dama col 1 -> rând 6\n",
        "# ...\n",
        "# Dama col 7 -> rând 5\n",
        "displayBoard(ind_solutie_8_dame)\n",
        "print(f\"Conflicte: {checkConflicts(ind_solutie_8_dame)[0]}\") # Ar trebui să fie (0,)\n",
        "\n",
        "print(\"\\nTest 3: Configurații aleatoare\")\n",
        "for i in range(2): # Testăm cu 2 configurații aleatoare\n",
        "  ind_aleator = list(np.random.permutation(8))\n",
        "  displayBoard(ind_aleator)\n",
        "  print(f\"Conflicte: {checkConflicts(ind_aleator)[0]}\")"
      ],
      "metadata": {
        "colab": {
          "base_uri": "https://localhost:8080/"
        },
        "id": "u5V3mZbg5AA1",
        "outputId": "73a92a5e-546f-48a4-ffd7-328458480414"
      },
      "execution_count": null,
      "outputs": [
        {
          "output_type": "stream",
          "name": "stdout",
          "text": [
            "Test 1: Configurație fără conflicte (teoretic, pentru diagonale principale)\n",
            "Q . . . . . . .\n",
            ". Q . . . . . .\n",
            ". . Q . . . . .\n",
            ". . . Q . . . .\n",
            ". . . . Q . . .\n",
            ". . . . . Q . .\n",
            ". . . . . . Q .\n",
            ". . . . . . . Q\n",
            "---------------\n",
            "Conflicte: 28.0\n",
            "\n",
            "Test 2: O soluție cunoscută pentru 8 dame\n",
            ". . . . . . Q .\n",
            ". . . . Q . . .\n",
            ". . Q . . . . .\n",
            "Q . . . . . . .\n",
            ". . . . . Q . .\n",
            ". . . . . . . Q\n",
            ". Q . . . . . .\n",
            ". . . Q . . . .\n",
            "---------------\n",
            "Conflicte: 0\n",
            "\n",
            "Test 3: Configurații aleatoare\n",
            ". . . . . . . Q\n",
            ". Q . . . . . .\n",
            "Q . . . . . . .\n",
            ". . . . . . Q .\n",
            ". . Q . . . . .\n",
            ". . . . . Q . .\n",
            ". . . Q . . . .\n",
            ". . . . Q . . .\n",
            "---------------\n",
            "Conflicte: 5.0\n",
            "Q . . . . . . .\n",
            ". . . . . . . Q\n",
            ". Q . . . . . .\n",
            ". . . Q . . . .\n",
            ". . Q . . . . .\n",
            ". . . . Q . . .\n",
            ". . . . . Q . .\n",
            ". . . . . . Q .\n",
            "---------------\n",
            "Conflicte: 8.0\n"
          ]
        }
      ]
    },
    {
      "cell_type": "markdown",
      "source": [
        "Definim lungimea \"cromozomului\" (individului). În formularea folosită, aceasta este egală cu numărul de dame (N), deoarece fiecare element al permutației reprezintă rândul unei dame de pe o coloană predefinită."
      ],
      "metadata": {
        "id": "FekR92lj6-bO"
      }
    },
    {
      "cell_type": "code",
      "source": [
        "NB_QUEENS = 8 # Numărul de dame (și dimensiunea tablei NxN)\n",
        "IND_SIZE = NB_QUEENS # Lungimea permutației"
      ],
      "metadata": {
        "id": "Tzxe5Mqy5Pjs"
      },
      "execution_count": null,
      "outputs": []
    },
    {
      "cell_type": "markdown",
      "source": [
        "Definim componentele algoritmului evolutiv în DEAP:\n",
        "*   **Fitness:** Dorim să minimizăm numărul conflictelor, deci `weights=(-1.0,)`.\n",
        "*   **Individ:** Un individ este o listă (care va conține o permutație) și are asociat un obiect fitness de tip `FitnessMin`.\n",
        "*   **Populație:** O listă de indivizi.\n",
        "*   **Funcții genetice:**\n",
        "    *   `permutation`: Generează o permutație aleatoare de `IND_SIZE` elemente (de la 0 la `IND_SIZE-1`).\n",
        "    *   `individual`: Creează un individ prin inițializarea sa cu o permutație generată de `toolbox.permutation`.\n",
        "    *   `population`: Creează o populație de indivizi.\n",
        "    *   `evaluate`: Funcția de evaluare (fitness), `checkConflicts`.\n",
        "    *   `mate`: Operatorul de încrucișare. Pentru permutări, `tools.cxPartialyMatched` (PMX) este o alegere bună.\n",
        "    *   `mutate`: Operatorul de mutație. `tools.mutShuffleIndexes` amestecă aleatoriu un subset de gene (elemente din permutație). `indpb` este probabilitatea ca fiecare genă să fie inclusă în subsetul de amestecat.\n",
        "    *   `select`: Strategia de selecție. `tools.selTournament` cu `tournsize=4` este o alegere robustă."
      ],
      "metadata": {
        "id": "LnQM1L8o7HrJ"
      }
    },
    {
      "cell_type": "code",
      "source": [
        "# Dorim să minimizăm numărul conflictelor\n",
        "creator.create(\"FitnessMin\", base.Fitness, weights=(-1.0,))\n",
        "\n",
        "# Reprezentare - un șir de numere (ce formează o permutație)\n",
        "# Un individ este o listă, cu un atribut de fitness\n",
        "creator.create(\"Individual\", list, fitness=creator.FitnessMin)\n",
        "\n",
        "toolbox = base.Toolbox()\n",
        "\n",
        "# Generator de atribute: o permutație de la 0 la IND_SIZE-1\n",
        "toolbox.register(\"indices\", random.sample, range(IND_SIZE), IND_SIZE)\n",
        "\n",
        "# Inițializator de indivizi și populație\n",
        "# tools.initIterate ia un container (creator.Individual) și o funcție (toolbox.indices)\n",
        "# pentru a umple containerul.\n",
        "toolbox.register(\"individual\", tools.initIterate, creator.Individual, toolbox.indices)\n",
        "toolbox.register(\"population\", tools.initRepeat, list, toolbox.individual)\n",
        "\n",
        "# Înregistrarea funcției de evaluare\n",
        "toolbox.register(\"evaluate\", checkConflicts)\n",
        "\n",
        "# Înregistrarea operatorilor genetici specifici pentru permutări\n",
        "toolbox.register(\"mate\", tools.cxPartialyMatched) # Partially Matched Crossover\n",
        "toolbox.register(\"mutate\", tools.mutShuffleIndexes, indpb=2.0/IND_SIZE) # Shuffle Indexes Mutation\n",
        "\n",
        "# Înregistrarea strategiei de selecție\n",
        "toolbox.register(\"select\", tools.selTournament, tournsize=4) # Turnir de mărime 4\n"
      ],
      "metadata": {
        "id": "JpMWumMO7GZb"
      },
      "execution_count": null,
      "outputs": []
    },
    {
      "cell_type": "markdown",
      "source": [
        "Cu ajutorul modulului `Statistics` putem genera (și afișa) statistici despre procesul de optimizare.\n",
        "`HallOfFame` reține cele mai bune soluții găsite de-a lungul generațiilor."
      ],
      "metadata": {
        "id": "hyGwHzen7XpR"
      }
    },
    {
      "cell_type": "code",
      "source": [
        "stats = tools.Statistics(lambda ind: ind.fitness.values[0]) # Extragem prima (și singura) valoare a fitness-ului\n",
        "stats.register(\"avg\", np.mean)\n",
        "stats.register(\"std\", np.std)\n",
        "stats.register(\"min\", np.min)\n",
        "stats.register(\"max\", np.max)\n",
        "\n",
        "# Reținem cele mai bune 5 soluții (cele cu fitness minim)\n",
        "hof = tools.HallOfFame(5)\n",
        "\n",
        "# Creăm o populație inițială\n",
        "pop_deap = toolbox.population(n=100) # Populație de 100 de indivizi\n",
        "\n",
        "# Rulăm algoritmul evolutiv\n",
        "# eaSimple este un algoritm generational standard\n",
        "# cxpb: probabilitatea de încrucișare\n",
        "# mutpb: probabilitatea de mutație\n",
        "# ngen: numărul de generații\n",
        "pop_deap, logbook_deap = algorithms.eaSimple(pop_deap, toolbox,\n",
        "                                  cxpb=0.7, mutpb=0.2, # Probabilități mai mari pentru operatori\n",
        "                                  ngen=100, stats=stats,\n",
        "                                  halloffame=hof, verbose=True)\n"
      ],
      "metadata": {
        "colab": {
          "base_uri": "https://localhost:8080/"
        },
        "id": "v83AKMtj7WED",
        "outputId": "703a8f46-d4ff-4713-c16b-3df51eefbb1e"
      },
      "execution_count": null,
      "outputs": [
        {
          "output_type": "stream",
          "name": "stdout",
          "text": [
            "gen\tnevals\tavg \tstd    \tmin\tmax\n",
            "0  \t100   \t4.76\t1.78393\t1  \t11 \n",
            "1  \t69    \t3.99\t2.18858\t1  \t16 \n",
            "2  \t79    \t3.63\t2.30935\t1  \t14 \n",
            "3  \t79    \t3.18\t1.73424\t1  \t7  \n",
            "4  \t80    \t3.42\t2.1456 \t1  \t11 \n",
            "5  \t74    \t2.69\t1.70115\t1  \t6  \n",
            "6  \t73    \t2.72\t2.0203 \t1  \t9  \n",
            "7  \t83    \t2.11\t1.67269\t1  \t8  \n",
            "8  \t74    \t1.91\t1.69172\t0  \t8  \n",
            "9  \t71    \t1.46\t1.19516\t0  \t7  \n",
            "10 \t78    \t1.59\t1.46352\t0  \t6  \n",
            "11 \t73    \t1.39\t1.53555\t0  \t8  \n",
            "12 \t82    \t1.15\t1.59609\t0  \t8  \n",
            "13 \t76    \t1.16\t1.95305\t0  \t8  \n",
            "14 \t86    \t0.75\t1.52561\t0  \t7  \n",
            "15 \t72    \t0.61\t1.40638\t0  \t6  \n",
            "16 \t78    \t0.59\t1.60683\t0  \t10 \n",
            "17 \t80    \t0.38\t1.41972\t0  \t11 \n",
            "18 \t75    \t0.59\t1.37182\t0  \t6  \n",
            "19 \t86    \t0.62\t1.42674\t0  \t8  \n",
            "20 \t75    \t0.6 \t1.47648\t0  \t7  \n",
            "21 \t75    \t0.72\t1.63144\t0  \t7  \n",
            "22 \t68    \t0.77\t1.88072\t0  \t10 \n",
            "23 \t82    \t0.94\t2.01405\t0  \t8  \n",
            "24 \t69    \t0.57\t1.52483\t0  \t7  \n",
            "25 \t73    \t1.02\t1.87072\t0  \t8  \n",
            "26 \t84    \t0.71\t1.5511 \t0  \t9  \n",
            "27 \t62    \t0.68\t1.68452\t0  \t8  \n",
            "28 \t78    \t0.67\t1.57515\t0  \t7  \n",
            "29 \t79    \t0.73\t1.66045\t0  \t7  \n",
            "30 \t70    \t0.39\t1.28759\t0  \t9  \n",
            "31 \t73    \t0.78\t1.82527\t0  \t8  \n",
            "32 \t74    \t0.73\t1.6962 \t0  \t8  \n",
            "33 \t71    \t0.67\t1.66166\t0  \t8  \n",
            "34 \t71    \t0.48\t1.32272\t0  \t6  \n",
            "35 \t77    \t0.88\t1.8291 \t0  \t8  \n",
            "36 \t77    \t0.53\t1.37445\t0  \t6  \n",
            "37 \t83    \t0.59\t1.70936\t0  \t8  \n",
            "38 \t77    \t0.95\t1.87283\t0  \t8  \n",
            "39 \t87    \t0.95\t1.97674\t0  \t9  \n",
            "40 \t78    \t0.56\t1.39513\t0  \t6  \n",
            "41 \t77    \t0.44\t1.20266\t0  \t6  \n",
            "42 \t80    \t0.63\t1.30119\t0  \t6  \n",
            "43 \t78    \t0.65\t1.55804\t0  \t7  \n",
            "44 \t70    \t0.72\t1.74974\t0  \t7  \n",
            "45 \t80    \t0.61\t1.58047\t0  \t9  \n",
            "46 \t83    \t0.87\t1.9832 \t0  \t12 \n",
            "47 \t81    \t0.59\t1.47034\t0  \t8  \n",
            "48 \t78    \t0.67\t1.56879\t0  \t7  \n",
            "49 \t76    \t0.57\t1.46462\t0  \t7  \n",
            "50 \t74    \t0.56\t1.57048\t0  \t8  \n",
            "51 \t75    \t0.87\t1.84204\t0  \t8  \n",
            "52 \t79    \t0.85\t1.73421\t0  \t8  \n",
            "53 \t75    \t0.62\t1.46137\t0  \t8  \n",
            "54 \t84    \t0.82\t2.02672\t0  \t10 \n",
            "55 \t73    \t0.43\t1.25104\t0  \t7  \n",
            "56 \t84    \t0.87\t1.95272\t0  \t8  \n",
            "57 \t83    \t0.53\t1.43147\t0  \t7  \n",
            "58 \t74    \t0.8 \t1.90788\t0  \t11 \n",
            "59 \t74    \t0.68\t1.77133\t0  \t9  \n",
            "60 \t70    \t0.74\t1.73563\t0  \t8  \n",
            "61 \t78    \t0.72\t1.67976\t0  \t7  \n",
            "62 \t72    \t0.47\t1.22029\t0  \t5  \n",
            "63 \t83    \t0.88\t1.83456\t0  \t8  \n",
            "64 \t76    \t0.87\t1.84204\t0  \t8  \n",
            "65 \t72    \t0.64\t1.47323\t0  \t5  \n",
            "66 \t80    \t0.52\t1.33776\t0  \t6  \n",
            "67 \t75    \t0.61\t1.6118 \t0  \t7  \n",
            "68 \t83    \t0.68\t1.6606 \t0  \t8  \n",
            "69 \t64    \t0.63\t1.55342\t0  \t8  \n",
            "70 \t83    \t0.71\t1.84551\t0  \t9  \n",
            "71 \t78    \t0.85\t1.98179\t0  \t12 \n",
            "72 \t77    \t0.92\t1.9062 \t0  \t8  \n",
            "73 \t67    \t0.69\t1.80386\t0  \t8  \n",
            "74 \t65    \t0.33\t1.01049\t0  \t6  \n",
            "75 \t77    \t0.78\t1.69458\t0  \t8  \n",
            "76 \t80    \t0.96\t1.83804\t0  \t7  \n",
            "77 \t82    \t0.56\t1.65118\t0  \t11 \n",
            "78 \t66    \t0.43\t1.25901\t0  \t6  \n",
            "79 \t79    \t0.72\t1.54971\t0  \t7  \n",
            "80 \t71    \t0.59\t1.35717\t0  \t6  \n",
            "81 \t68    \t0.67\t1.43565\t0  \t7  \n",
            "82 \t67    \t0.6 \t1.65529\t0  \t8  \n",
            "83 \t60    \t0.6 \t1.34907\t0  \t6  \n",
            "84 \t78    \t0.95\t2.07545\t0  \t9  \n",
            "85 \t72    \t0.66\t1.62616\t0  \t8  \n",
            "86 \t82    \t0.81\t1.79274\t0  \t7  \n",
            "87 \t76    \t0.66\t1.66865\t0  \t9  \n",
            "88 \t70    \t0.91\t2.16839\t0  \t16 \n",
            "89 \t83    \t0.63\t1.59157\t0  \t7  \n",
            "90 \t72    \t0.87\t1.82019\t0  \t8  \n",
            "91 \t68    \t0.44\t1.19432\t0  \t5  \n",
            "92 \t74    \t0.58\t1.72731\t0  \t10 \n",
            "93 \t74    \t1.18\t2.38067\t0  \t10 \n",
            "94 \t86    \t0.57\t1.46462\t0  \t8  \n",
            "95 \t80    \t0.55\t1.39553\t0  \t6  \n",
            "96 \t68    \t0.75\t1.79095\t0  \t10 \n",
            "97 \t79    \t0.67\t1.54308\t0  \t8  \n",
            "98 \t70    \t0.61\t1.4553 \t0  \t6  \n",
            "99 \t82    \t0.68\t1.69044\t0  \t8  \n",
            "100\t68    \t0.53\t1.41035\t0  \t6  \n"
          ]
        }
      ]
    },
    {
      "cell_type": "code",
      "source": [
        "# Afișarea celor mai bune soluții găsite de algoritmul DEAP:\n",
        "\n",
        "print(\"\\nCele mai bune soluții găsite de DEAP:\")\n",
        "for i, sol_deap in enumerate(hof):\n",
        "    print(f\"\\nSoluția DEAP #{i+1} (Fitness: {sol_deap.fitness.values[0]} conflicte):\")\n",
        "    displayBoard(sol_deap)"
      ],
      "metadata": {
        "colab": {
          "base_uri": "https://localhost:8080/"
        },
        "id": "DhI0KqM77hkx",
        "outputId": "e2a70c38-589b-486b-b020-4a883630856f"
      },
      "execution_count": null,
      "outputs": [
        {
          "output_type": "stream",
          "name": "stdout",
          "text": [
            "\n",
            "Cele mai bune soluții găsite de DEAP:\n",
            "\n",
            "Soluția DEAP #1 (Fitness: 0.0 conflicte):\n",
            ". . . Q . . . .\n",
            ". . . . . Q . .\n",
            ". . . . . . . Q\n",
            ". . Q . . . . .\n",
            "Q . . . . . . .\n",
            ". . . . . . Q .\n",
            ". . . . Q . . .\n",
            ". Q . . . . . .\n",
            "---------------\n",
            "\n",
            "Soluția DEAP #2 (Fitness: 0.0 conflicte):\n",
            ". . . . . . . Q\n",
            ". Q . . . . . .\n",
            ". . . Q . . . .\n",
            "Q . . . . . . .\n",
            ". . . . . . Q .\n",
            ". . . . Q . . .\n",
            ". . Q . . . . .\n",
            ". . . . . Q . .\n",
            "---------------\n",
            "\n",
            "Soluția DEAP #3 (Fitness: 0.0 conflicte):\n",
            ". . . Q . . . .\n",
            ". . . . . Q . .\n",
            ". . . . . . . Q\n",
            ". Q . . . . . .\n",
            ". . . . . . Q .\n",
            "Q . . . . . . .\n",
            ". . Q . . . . .\n",
            ". . . . Q . . .\n",
            "---------------\n",
            "\n",
            "Soluția DEAP #4 (Fitness: 0.0 conflicte):\n",
            ". . . Q . . . .\n",
            ". . . . . . . Q\n",
            "Q . . . . . . .\n",
            ". . . . Q . . .\n",
            ". . . . . . Q .\n",
            ". Q . . . . . .\n",
            ". . . . . Q . .\n",
            ". . Q . . . . .\n",
            "---------------\n",
            "\n",
            "Soluția DEAP #5 (Fitness: 0.0 conflicte):\n",
            ". . . Q . . . .\n",
            ". Q . . . . . .\n",
            ". . . . . . . Q\n",
            ". . . . Q . . .\n",
            ". . . . . . Q .\n",
            "Q . . . . . . .\n",
            ". . Q . . . . .\n",
            ". . . . . Q . .\n",
            "---------------\n"
          ]
        }
      ]
    },
    {
      "cell_type": "markdown",
      "source": [
        "## Partea II: Reprezentarea cu chei aleatoare (Random Keys) și BRKGA\n",
        "\n",
        "O alternativă la reprezentarea directă prin permutări este utilizarea **cheilor aleatoare**. Această tehnică oferă o modalitate flexibilă de a codifica soluții permutative, permițând utilizarea operatorilor genetici standard (cum ar fi crossover-ul uniform sau pe un singur punct) fără a genera soluții invalide (adică, rezultatul decodificat este întotdeauna o permutație validă).\n",
        "\n",
        "### Ce sunt cheile aleatoare?\n",
        "\n",
        "Un individ în reprezentarea cu chei aleatoare este un vector de numere reale, de obicei din intervalul `[0, 1)`. Lungimea vectorului este egală cu numărul de elemente care trebuie ordonate (de exemplu, `N` pentru problema celor `N` dame).\n",
        "\n",
        "**Decodificarea cheilor aleatoare într-o permutație:**\n",
        "Pentru a obține o permutație dintr-un vector de chei aleatoare, sortăm valorile cheilor și folosim indicii originali ai acestor valori sortate pentru a forma permutația.\n",
        "\n",
        "**Exemplu de decodificare:**\n",
        "Să presupunem că avem `N=4` elemente de ordonat și următorul vector de chei aleatoare:\n",
        "`keys = [0.72, 0.15, 0.91, 0.34]`\n",
        "\n",
        "1.  Asociem fiecare cheie cu indexul său original (0-indexat):\n",
        "    *   `0.72` (elementul/coloana originală cu index 0)\n",
        "    *   `0.15` (elementul/coloana originală cu index 1)\n",
        "    *   `0.91` (elementul/coloana originală cu index 2)\n",
        "    *   `0.34` (elementul/coloana originală cu index 3)\n",
        "\n",
        "2.  Sortăm aceste perechi `(cheie, index_original)` în funcție de valoarea cheii, în ordine crescătoare:\n",
        "    *   `(0.15, index 1)`\n",
        "    *   `(0.34, index 3)`\n",
        "    *   `(0.72, index 0)`\n",
        "    *   `(0.91, index 2)`\n",
        "\n",
        "3.  Permutația rezultată este secvența indicilor originali din perechile sortate:\n",
        "    `permutation = [1, 3, 0, 2]`\n",
        "\n",
        "Aceasta înseamnă că elementul original cu indexul 1 este primul în noua ordine, elementul original cu indexul 3 este al doilea, ș.a.m.d.\n",
        "Pentru problema damelor, dacă `N=4`, permutația `[1, 3, 0, 2]` se interpretează ca:\n",
        "*   Pe coloana 0 (primul element al permutației, care este `1`) se află dama de pe rândul `1`.\n",
        "*   Pe coloana 1 (al doilea element al permutației, care este `3`) se află dama de pe rândul `3`.\n",
        "*   Pe coloana 2 (al treilea element al permutației, care este `0`) se află dama de pe rândul `0`.\n",
        "*   Pe coloana 3 (al patrulea element al permutației, care este `2`) se află dama de pe rândul `2`.\n",
        "Mai precis, dacă permutația este `p = [p_0, p_1, ..., p_{N-1}]`, atunci dama de pe coloana `i` este pe rândul `p_i`. Interpretarea corectă pentru `[1,3,0,2]` este: dama de pe coloana 0 este pe rândul 1, dama de pe coloana 1 este pe rândul 3, dama de pe coloana 2 este pe rândul 0, iar dama de pe coloana 3 este pe rândul 2. Decodificarea cheilor aleatoare produce **direct** permutația `[rand, coloana]` dorită.\n",
        "\n",
        "Avantajul principal este că operatorii genetici standard (ex: crossover uniform) aplicați pe vectorii de chei aleatoare vor produce întotdeauna vectori de chei valide, care la rândul lor vor decodifica întotdeauna permutări valide. Nu mai este nevoie de operatori de încrucișare și mutație specializați pentru permutări.\n",
        "\n",
        "### Biased Random-Key Genetic Algorithm (BRKGA)\n",
        "\n",
        "BRKGA este o metaheuristică evolutivă propusă de Gonçalves și Resende (2011) care utilizează reprezentarea cu chei aleatoare. Termenul **\"biased\" (părtinitor)** se referă la modul în care soluțiile noi sunt generate, cu o preferință (o \"părtinire\") pentru materialul genetic provenit de la soluțiile de elită (cele mai bune soluții găsite până la un moment dat).\n",
        "\n",
        "**Componentele principale ale BRKGA:**\n",
        "\n",
        "1.  **Populația:**\n",
        "    *   Este împărțită în două (sau mai multe) grupuri. O structură tipică include:\n",
        "        *   **Setul de elită (`n_elites`):** Conține un număr fix de cele mai bune soluții găsite până în prezent. Acestea sunt transmise nemodificate generației următoare.\n",
        "        *   **Setul non-elită:** Restul populației, care nu sunt elite.\n",
        "2.  **Generarea noii populații (pentru generația următoare):**\n",
        "    *   **Elitism:** Indivizii din setul de elită sunt copiați direct în populația următoare.\n",
        "    *   **Încrucișare (Crossover):** Un număr de urmași (`n_offsprings`) sunt generați. Pentru fiecare urmaș:\n",
        "        *   Se selectează un părinte aleatoriu din setul de elită.\n",
        "        *   Se selectează un părinte aleatoriu din setul non-elită (sau din întreaga populație, excluzând elitele).\n",
        "        *   Se aplică un operator de încrucișare. Pentru BRKGA, se folosește frecvent **încrucișarea uniformă parametrizată (biased uniform crossover)**:\n",
        "            *   Pentru fiecare genă (cheie aleatoare) din urmaș: cu o probabilitate `p_bias` (de ex. 0.7), gena este moștenită de la părintele de elită; altfel (cu probabilitatea `1 - p_bias`), este moștenită de la celălalt părinte. Această probabilitate `p_bias` introduce \"părtinirea\" către părintele de elită.\n",
        "    *   **Mutanți (`n_mutants`):** Un număr de indivizi noi sunt generați complet aleatoriu (la fel ca în populația inițială). Aceștia ajută la menținerea diversității și la explorarea unor noi regiuni ale spațiului soluțiilor.\n",
        "\n",
        "Mărimea totală a populației în BRKGA este de obicei `n_elites + n_offsprings + n_mutants`.\n",
        "\n",
        "**Fluxul general al BRKGA:**\n",
        "1.  Inițializează o populație de `P` indivizi (vectori de chei aleatoare).\n",
        "2.  Pentru fiecare generație:\n",
        "    a.  Decodifică fiecare individ (vector de chei) într-o soluție a problemei (ex: o permutație).\n",
        "    b.  Evaluează funcția fitness pentru fiecare soluție decodificată.\n",
        "    c.  Sortează populația pe baza valorilor fitness.\n",
        "    d.  Identifică primii `n_elites` indivizi ca fiind setul de elită.\n",
        "    e.  Construiește populația pentru generația următoare:\n",
        "        i.  Copiază cei `n_elites` indivizi de elită.\n",
        "        ii. Generează `n_offsprings` urmași prin încrucișare părtinitoare între un părinte de elită și un părinte non-elită.\n",
        "        iii.Generează `n_mutants` indivizi noi complet aleatoriu.\n",
        "3.  Repetă pasul 2 până la atingerea criteriului de oprire (ex: număr de generații, convergență).\n",
        "\n",
        "BRKGA s-a dovedit eficient pentru o gamă largă de probleme de optimizare combinatorică.\n",
        "\n",
        "### Demonstrație: Rezolvarea problemei celor N dame cu BRKGA folosind `pymoo`\n",
        "\n",
        "Vom folosi biblioteca `pymoo` pentru a implementa BRKGA pentru problema damelor. Mai întâi, instalăm `pymoo`:\n"
      ],
      "metadata": {
        "id": "zDlnXX598Dv9"
      }
    },
    {
      "cell_type": "code",
      "source": [
        "!pip install pymoo"
      ],
      "metadata": {
        "colab": {
          "base_uri": "https://localhost:8080/"
        },
        "id": "HNensV5v7xQQ",
        "outputId": "c7422c5d-a68a-41ad-cd96-624be952d721"
      },
      "execution_count": null,
      "outputs": [
        {
          "output_type": "stream",
          "name": "stdout",
          "text": [
            "Collecting pymoo\n",
            "  Downloading pymoo-0.6.1.5-cp311-cp311-manylinux_2_17_x86_64.manylinux2014_x86_64.whl.metadata (5.0 kB)\n",
            "Requirement already satisfied: numpy>=1.19.3 in /usr/local/lib/python3.11/dist-packages (from pymoo) (2.0.2)\n",
            "Requirement already satisfied: scipy>=1.1 in /usr/local/lib/python3.11/dist-packages (from pymoo) (1.15.3)\n",
            "Requirement already satisfied: matplotlib>=3 in /usr/local/lib/python3.11/dist-packages (from pymoo) (3.10.0)\n",
            "Requirement already satisfied: autograd>=1.4 in /usr/local/lib/python3.11/dist-packages (from pymoo) (1.8.0)\n",
            "Collecting cma>=3.2.2 (from pymoo)\n",
            "  Downloading cma-4.2.0-py3-none-any.whl.metadata (7.7 kB)\n",
            "Collecting alive-progress (from pymoo)\n",
            "  Downloading alive_progress-3.2.0-py3-none-any.whl.metadata (70 kB)\n",
            "\u001b[2K     \u001b[90m━━━━━━━━━━━━━━━━━━━━━━━━━━━━━━━━━━━━━━━━\u001b[0m \u001b[32m70.6/70.6 kB\u001b[0m \u001b[31m1.9 MB/s\u001b[0m eta \u001b[36m0:00:00\u001b[0m\n",
            "\u001b[?25hRequirement already satisfied: dill in /usr/local/lib/python3.11/dist-packages (from pymoo) (0.3.7)\n",
            "Collecting Deprecated (from pymoo)\n",
            "  Downloading Deprecated-1.2.18-py2.py3-none-any.whl.metadata (5.7 kB)\n",
            "Requirement already satisfied: contourpy>=1.0.1 in /usr/local/lib/python3.11/dist-packages (from matplotlib>=3->pymoo) (1.3.2)\n",
            "Requirement already satisfied: cycler>=0.10 in /usr/local/lib/python3.11/dist-packages (from matplotlib>=3->pymoo) (0.12.1)\n",
            "Requirement already satisfied: fonttools>=4.22.0 in /usr/local/lib/python3.11/dist-packages (from matplotlib>=3->pymoo) (4.58.1)\n",
            "Requirement already satisfied: kiwisolver>=1.3.1 in /usr/local/lib/python3.11/dist-packages (from matplotlib>=3->pymoo) (1.4.8)\n",
            "Requirement already satisfied: packaging>=20.0 in /usr/local/lib/python3.11/dist-packages (from matplotlib>=3->pymoo) (24.2)\n",
            "Requirement already satisfied: pillow>=8 in /usr/local/lib/python3.11/dist-packages (from matplotlib>=3->pymoo) (11.2.1)\n",
            "Requirement already satisfied: pyparsing>=2.3.1 in /usr/local/lib/python3.11/dist-packages (from matplotlib>=3->pymoo) (3.2.3)\n",
            "Requirement already satisfied: python-dateutil>=2.7 in /usr/local/lib/python3.11/dist-packages (from matplotlib>=3->pymoo) (2.9.0.post0)\n",
            "Collecting about-time==4.2.1 (from alive-progress->pymoo)\n",
            "  Downloading about_time-4.2.1-py3-none-any.whl.metadata (13 kB)\n",
            "Collecting grapheme==0.6.0 (from alive-progress->pymoo)\n",
            "  Downloading grapheme-0.6.0.tar.gz (207 kB)\n",
            "\u001b[2K     \u001b[90m━━━━━━━━━━━━━━━━━━━━━━━━━━━━━━━━━━━━━━━\u001b[0m \u001b[32m207.3/207.3 kB\u001b[0m \u001b[31m7.2 MB/s\u001b[0m eta \u001b[36m0:00:00\u001b[0m\n",
            "\u001b[?25h  Preparing metadata (setup.py) ... \u001b[?25l\u001b[?25hdone\n",
            "Requirement already satisfied: wrapt<2,>=1.10 in /usr/local/lib/python3.11/dist-packages (from Deprecated->pymoo) (1.17.2)\n",
            "Requirement already satisfied: six>=1.5 in /usr/local/lib/python3.11/dist-packages (from python-dateutil>=2.7->matplotlib>=3->pymoo) (1.17.0)\n",
            "Downloading pymoo-0.6.1.5-cp311-cp311-manylinux_2_17_x86_64.manylinux2014_x86_64.whl (4.4 MB)\n",
            "\u001b[2K   \u001b[90m━━━━━━━━━━━━━━━━━━━━━━━━━━━━━━━━━━━━━━━━\u001b[0m \u001b[32m4.4/4.4 MB\u001b[0m \u001b[31m51.7 MB/s\u001b[0m eta \u001b[36m0:00:00\u001b[0m\n",
            "\u001b[?25hDownloading cma-4.2.0-py3-none-any.whl (288 kB)\n",
            "\u001b[2K   \u001b[90m━━━━━━━━━━━━━━━━━━━━━━━━━━━━━━━━━━━━━━━━\u001b[0m \u001b[32m288.2/288.2 kB\u001b[0m \u001b[31m16.6 MB/s\u001b[0m eta \u001b[36m0:00:00\u001b[0m\n",
            "\u001b[?25hDownloading alive_progress-3.2.0-py3-none-any.whl (77 kB)\n",
            "\u001b[2K   \u001b[90m━━━━━━━━━━━━━━━━━━━━━━━━━━━━━━━━━━━━━━━━\u001b[0m \u001b[32m77.1/77.1 kB\u001b[0m \u001b[31m5.2 MB/s\u001b[0m eta \u001b[36m0:00:00\u001b[0m\n",
            "\u001b[?25hDownloading about_time-4.2.1-py3-none-any.whl (13 kB)\n",
            "Downloading Deprecated-1.2.18-py2.py3-none-any.whl (10.0 kB)\n",
            "Building wheels for collected packages: grapheme\n",
            "  Building wheel for grapheme (setup.py) ... \u001b[?25l\u001b[?25hdone\n",
            "  Created wheel for grapheme: filename=grapheme-0.6.0-py3-none-any.whl size=210082 sha256=710e037a8143c5b69e80c0fe5bbc0a45679c0cf7fe40030f7010456a29db20b4\n",
            "  Stored in directory: /root/.cache/pip/wheels/ee/3b/0b/1b865800e916d671a24028d884698674138632a83fdfad4926\n",
            "Successfully built grapheme\n",
            "Installing collected packages: grapheme, Deprecated, cma, about-time, alive-progress, pymoo\n",
            "Successfully installed Deprecated-1.2.18 about-time-4.2.1 alive-progress-3.2.0 cma-4.2.0 grapheme-0.6.0 pymoo-0.6.1.5\n"
          ]
        }
      ]
    },
    {
      "cell_type": "markdown",
      "source": [
        "Importăm componentele necesare:"
      ],
      "metadata": {
        "id": "WXLldP9l8Yxy"
      }
    },
    {
      "cell_type": "code",
      "source": [
        "import numpy as np\n",
        "from pymoo.core.problem import Problem\n",
        "from pymoo.algorithms.soo.nonconvex.brkga import BRKGA\n",
        "from pymoo.optimize import minimize\n",
        "from pymoo.termination import get_termination # Pentru definirea criteriului de oprire\n",
        "# Funcția displayBoard este definită anterior în secțiunea DEAP. O vom reutiliza.\n",
        "# Funcția checkConflicts o vom adapta puțin pentru pymoo."
      ],
      "metadata": {
        "id": "NtHx8LjT8XcC"
      },
      "execution_count": null,
      "outputs": []
    },
    {
      "cell_type": "markdown",
      "source": [
        "Vom reutiliza funcția `checkConflicts` definită anterior, dar o vom adapta ușor pentru `pymoo` (care așteaptă o singură valoare numerică pentru funcția obiectiv în problemele mono-obiectiv, nu un tuplu). De asemenea, avem nevoie de o funcție pentru a decodifica un vector de chei aleatoare într-o permutație."
      ],
      "metadata": {
        "id": "zPkF1Mde82Qr"
      }
    },
    {
      "cell_type": "code",
      "source": [
        "def decode_random_keys_to_permutation(random_keys_vector):\n",
        "    \"\"\"\n",
        "    Decodifică un vector de chei aleatoare într-o permutație.\n",
        "    Returnează o listă de indici care reprezintă permutația.\n",
        "    \"\"\"\n",
        "    n_elements = len(random_keys_vector)\n",
        "    # Creăm perechi (cheie, index_original)\n",
        "    indexed_keys = []\n",
        "    for i in range(n_elements):\n",
        "        indexed_keys.append((random_keys_vector[i], i))\n",
        "\n",
        "    # Sortăm perechile după valoarea cheii (primul element al tuplului)\n",
        "    indexed_keys.sort(key=lambda x: x[0])\n",
        "\n",
        "    # Permutația este formată din indicii originali, în noua ordine dată de sortare\n",
        "    permutation = []\n",
        "    for i in range(n_elements):\n",
        "        permutation.append(indexed_keys[i][1])\n",
        "\n",
        "    return permutation\n",
        "\n",
        "# Adaptăm funcția checkConflicts pentru a returna o singură valoare, așa cum așteaptă pymoo.\n",
        "# Și o redenumim pentru claritate.\n",
        "def checkConflicts_for_pymoo(individual_permutation):\n",
        "    return checkConflicts(individual_permutation)[0] # Pymoo așteaptă o valoare numerică, nu un tuplu\n"
      ],
      "metadata": {
        "id": "j5e5HLp88lwL"
      },
      "execution_count": null,
      "outputs": []
    },
    {
      "cell_type": "markdown",
      "source": [
        "Acum definim problema pentru `pymoo`. O problemă în `pymoo` este o clasă care moștenește din `pymoo.core.problem.Problem`.\n",
        "Trebuie să specificăm:\n",
        "*   `n_var`: numărul de variabile de decizie (lungimea vectorului de chei aleatoare, adică `NB_QUEENS`).\n",
        "*   `n_obj`: numărul de funcții obiectiv (1 în cazul nostru, minimizarea conflictelor).\n",
        "*   `n_constr`: numărul de constrângeri (0 în cazul nostru, deoarece reprezentarea cu chei aleatoare garantează permutări valide prin decodificare).\n",
        "*   `xl`, `xu`: limitele inferioare și superioare pentru variabilele de decizie (0.0 și 1.0 pentru cheile aleatoare).\n",
        "*   `_evaluate`: metoda care calculează funcția obiectiv. Aceasta primește un batch de soluții `x` (unde fiecare rând este un individ/vector de chei aleatoare) și trebuie să returneze un dicționar `out` unde `out[\"F\"]` conține valorile funcției obiectiv pentru fiecare individ.\n"
      ],
      "metadata": {
        "id": "5RO09Ddh9eDS"
      }
    },
    {
      "cell_type": "code",
      "source": [
        "NB_QUEENS_BRKGA = 8 # Putem testa cu valori mai mari ulterior\n",
        "\n",
        "class NQueensProblemBRKGA(Problem):\n",
        "    def __init__(self, n_queens):\n",
        "        super().__init__(n_var=n_queens,   # Numărul de variabile (lungimea vectorului de chei)\n",
        "                         n_obj=1,          # O singură funcție obiectiv (minimizarea conflictelor)\n",
        "                         n_constr=0,       # Fără constrângeri explicite aici\n",
        "                         xl=0.0,           # Limita inferioară pentru cheile aleatoare\n",
        "                         xu=1.0)           # Limita superioară pentru cheile aleatoare\n",
        "        self.n_queens = n_queens\n",
        "\n",
        "    def _evaluate(self, x_batch_keys, out, *args, **kwargs):\n",
        "        # x_batch_keys este o matrice NumPy unde fiecare rând este un vector de chei aleatoare\n",
        "        # (un individ din populație).\n",
        "\n",
        "        objectives_list = []\n",
        "        for individual_keys in x_batch_keys:\n",
        "            # 1. Decodificăm vectorul de chei aleatoare într-o permutație\n",
        "            permutation = decode_random_keys_to_permutation(individual_keys)\n",
        "\n",
        "            # 2. Calculăm numărul de conflicte pentru permutația obținută\n",
        "            conflicts = checkConflicts_for_pymoo(permutation)\n",
        "            objectives_list.append(conflicts)\n",
        "\n",
        "        # Rezultatele trebuie returnate într-un format specific pentru pymoo:\n",
        "        # un array NumPy cu o coloană (pentru probleme mono-obiectiv).\n",
        "        out[\"F\"] = np.array(objectives_list).reshape(-1, 1)\n",
        "\n",
        "# Inițializăm problema pentru pymoo\n",
        "problem_brkga = NQueensProblemBRKGA(n_queens=NB_QUEENS_BRKGA)"
      ],
      "metadata": {
        "id": "uYjXSxlg9Xkr"
      },
      "execution_count": null,
      "outputs": []
    },
    {
      "cell_type": "markdown",
      "source": [
        "Definim algoritmul BRKGA și parametrii săi.\n",
        "Parametrii comuni pentru BRKGA în `pymoo`:\n",
        "*   `n_elites`: numărul de indivizi de elită.\n",
        "*   `n_offsprings`: numărul de urmași generați prin încrucișare.\n",
        "*   `n_mutants`: numărul de mutanți (indivizi generați aleatoriu).\n",
        "*   `bias`: probabilitatea `p_e` (sau `rho_e` în unele notații) de a alege gena de la părintele de elită în timpul încrucișării (de obicei în jur de 0.7).\n",
        "*   `eliminate_duplicates`: o opțiune utilă pentru a menține diversitatea (poate fi costisitoare computațional pentru populații mari).\n",
        "\n",
        "Mărimea totală a populației va fi `n_elites + n_offsprings + n_mutants`."
      ],
      "metadata": {
        "id": "3-zinwYu9wwb"
      }
    },
    {
      "cell_type": "code",
      "source": [
        "# Setăm parametrii pentru BRKGA\n",
        "pop_size_brkga = 100\n",
        "n_elites_brkga = int(0.2 * pop_size_brkga)    # 20% elite\n",
        "n_mutants_brkga = int(0.15 * pop_size_brkga)  # 15% mutanți\n",
        "n_offsprings_brkga = pop_size_brkga - n_elites_brkga - n_mutants_brkga # Restul sunt urmași\n",
        "\n",
        "algorithm_brkga = BRKGA(\n",
        "    n_elites=n_elites_brkga,\n",
        "    n_offsprings=n_offsprings_brkga,\n",
        "    n_mutants=n_mutants_brkga,\n",
        "    bias=0.7,  # Probabilitatea de a moșteni de la părintele de elită\n",
        "    eliminate_duplicates=True # Poate ajuta la diversitate\n",
        ")\n",
        "\n",
        "# Definim criteriul de oprire (de ex., un număr de generații)\n",
        "termination_brkga = get_termination(\"n_gen\", 100) # Oprim după 100 de generații\n",
        "\n",
        "# Rulăm optimizarea cu BRKGA\n",
        "results_brkga = minimize(problem_brkga,\n",
        "                         algorithm_brkga,\n",
        "                         termination_brkga,\n",
        "                         seed=1, # Pentru reproductibilitatea rezultatelor\n",
        "                         verbose=True) # Afișează progresul"
      ],
      "metadata": {
        "colab": {
          "base_uri": "https://localhost:8080/"
        },
        "id": "6oY-4K9d9vkb",
        "outputId": "0eb681ab-4b2d-440a-8530-1118864e27d9"
      },
      "execution_count": null,
      "outputs": [
        {
          "output_type": "stream",
          "name": "stdout",
          "text": [
            "=================================================\n",
            "n_gen  |  n_eval  |     f_avg     |     f_min    \n",
            "=================================================\n",
            "     1 |      100 |  6.0000000000 |  1.0000000000\n",
            "     2 |      180 |  6.6666666667 |  1.0000000000\n",
            "     3 |      260 |  7.3846153846 |  1.0000000000\n",
            "     4 |      340 |  7.7142857143 |  1.0000000000\n",
            "     5 |      420 |  7.7142857143 |  1.0000000000\n",
            "     6 |      500 |  7.7142857143 |  1.0000000000\n",
            "     7 |      580 |  8.2000000000 |  1.0000000000\n",
            "     8 |      660 |  8.2000000000 |  1.0000000000\n",
            "     9 |      740 |  8.2000000000 |  1.0000000000\n",
            "    10 |      820 |  8.8125000000 |  1.0000000000\n",
            "    11 |      900 |  8.2941176471 |  0.000000E+00\n",
            "    12 |      980 |  8.5555555556 |  0.000000E+00\n",
            "    13 |     1060 |  8.5555555556 |  0.000000E+00\n",
            "    14 |     1140 |  8.5555555556 |  0.000000E+00\n",
            "    15 |     1220 |  8.5555555556 |  0.000000E+00\n",
            "    16 |     1300 |  8.5555555556 |  0.000000E+00\n",
            "    17 |     1380 |  8.5555555556 |  0.000000E+00\n",
            "    18 |     1460 |  8.5555555556 |  0.000000E+00\n",
            "    19 |     1540 |  8.5555555556 |  0.000000E+00\n",
            "    20 |     1620 |  8.5555555556 |  0.000000E+00\n",
            "    21 |     1700 |  8.5555555556 |  0.000000E+00\n",
            "    22 |     1780 |  8.5555555556 |  0.000000E+00\n",
            "    23 |     1860 |  8.5555555556 |  0.000000E+00\n",
            "    24 |     1940 |  9.2631578947 |  0.000000E+00\n",
            "    25 |     2020 |  9.2631578947 |  0.000000E+00\n",
            "    26 |     2100 |  9.2631578947 |  0.000000E+00\n",
            "    27 |     2180 |  9.2631578947 |  0.000000E+00\n",
            "    28 |     2260 |  9.2631578947 |  0.000000E+00\n",
            "    29 |     2340 |  9.2631578947 |  0.000000E+00\n",
            "    30 |     2420 |  9.2631578947 |  0.000000E+00\n",
            "    31 |     2500 |  9.2631578947 |  0.000000E+00\n",
            "    32 |     2580 |  9.2631578947 |  0.000000E+00\n",
            "    33 |     2660 |  9.6500000000 |  0.000000E+00\n",
            "    34 |     2740 |  9.6500000000 |  0.000000E+00\n",
            "    35 |     2820 |  9.6500000000 |  0.000000E+00\n",
            "    36 |     2900 |  9.6500000000 |  0.000000E+00\n",
            "    37 |     2980 |  9.6500000000 |  0.000000E+00\n",
            "    38 |     3060 |  9.6500000000 |  0.000000E+00\n",
            "    39 |     3140 |  9.6500000000 |  0.000000E+00\n",
            "    40 |     3220 |  9.6500000000 |  0.000000E+00\n",
            "    41 |     3300 |  9.6500000000 |  0.000000E+00\n",
            "    42 |     3380 |  1.052381E+01 |  0.000000E+00\n",
            "    43 |     3460 |  9.6500000000 |  0.000000E+00\n",
            "    44 |     3540 |  9.6500000000 |  0.000000E+00\n",
            "    45 |     3620 |  9.6500000000 |  0.000000E+00\n",
            "    46 |     3700 |  9.6500000000 |  0.000000E+00\n",
            "    47 |     3780 |  9.6500000000 |  0.000000E+00\n",
            "    48 |     3860 |  9.6500000000 |  0.000000E+00\n",
            "    49 |     3940 |  9.6500000000 |  0.000000E+00\n",
            "    50 |     4020 |  9.6500000000 |  0.000000E+00\n",
            "    51 |     4100 |  9.6500000000 |  0.000000E+00\n",
            "    52 |     4180 |  9.6500000000 |  0.000000E+00\n",
            "    53 |     4260 |  9.6500000000 |  0.000000E+00\n",
            "    54 |     4340 |  9.6500000000 |  0.000000E+00\n",
            "    55 |     4420 |  9.6500000000 |  0.000000E+00\n",
            "    56 |     4500 |  1.052381E+01 |  0.000000E+00\n",
            "    57 |     4580 |  1.052381E+01 |  0.000000E+00\n",
            "    58 |     4660 |  1.052381E+01 |  0.000000E+00\n",
            "    59 |     4740 |  9.6500000000 |  0.000000E+00\n",
            "    60 |     4820 |  9.6500000000 |  0.000000E+00\n",
            "    61 |     4900 |  9.6500000000 |  0.000000E+00\n",
            "    62 |     4980 |  9.6500000000 |  0.000000E+00\n",
            "    63 |     5060 |  9.6500000000 |  0.000000E+00\n",
            "    64 |     5140 |  9.6500000000 |  0.000000E+00\n",
            "    65 |     5220 |  9.6500000000 |  0.000000E+00\n",
            "    66 |     5300 |  1.052381E+01 |  0.000000E+00\n",
            "    67 |     5380 |  9.6500000000 |  0.000000E+00\n",
            "    68 |     5460 |  9.6500000000 |  0.000000E+00\n",
            "    69 |     5540 |  9.6500000000 |  0.000000E+00\n",
            "    70 |     5620 |  9.6500000000 |  0.000000E+00\n",
            "    71 |     5700 |  9.6500000000 |  0.000000E+00\n",
            "    72 |     5780 |  9.6500000000 |  0.000000E+00\n",
            "    73 |     5860 |  9.6500000000 |  0.000000E+00\n",
            "    74 |     5940 |  1.052381E+01 |  0.000000E+00\n",
            "    75 |     6020 |  9.6500000000 |  0.000000E+00\n",
            "    76 |     6100 |  9.6500000000 |  0.000000E+00\n",
            "    77 |     6180 |  9.6500000000 |  0.000000E+00\n",
            "    78 |     6260 |  9.6500000000 |  0.000000E+00\n",
            "    79 |     6340 |  9.6500000000 |  0.000000E+00\n",
            "    80 |     6420 |  9.6500000000 |  0.000000E+00\n",
            "    81 |     6500 |  9.6500000000 |  0.000000E+00\n",
            "    82 |     6580 |  9.6500000000 |  0.000000E+00\n",
            "    83 |     6660 |  9.6500000000 |  0.000000E+00\n",
            "    84 |     6740 |  9.6500000000 |  0.000000E+00\n",
            "    85 |     6820 |  9.6500000000 |  0.000000E+00\n",
            "    86 |     6900 |  9.6500000000 |  0.000000E+00\n",
            "    87 |     6980 |  9.6500000000 |  0.000000E+00\n",
            "    88 |     7060 |  9.6500000000 |  0.000000E+00\n",
            "    89 |     7140 |  1.052381E+01 |  0.000000E+00\n",
            "    90 |     7220 |  9.6500000000 |  0.000000E+00\n",
            "    91 |     7300 |  9.6500000000 |  0.000000E+00\n",
            "    92 |     7380 |  9.6500000000 |  0.000000E+00\n",
            "    93 |     7460 |  9.6500000000 |  0.000000E+00\n",
            "    94 |     7540 |  9.6500000000 |  0.000000E+00\n",
            "    95 |     7620 |  9.6500000000 |  0.000000E+00\n",
            "    96 |     7700 |  9.6500000000 |  0.000000E+00\n",
            "    97 |     7780 |  9.6500000000 |  0.000000E+00\n",
            "    98 |     7860 |  9.6500000000 |  0.000000E+00\n",
            "    99 |     7940 |  9.6500000000 |  0.000000E+00\n",
            "   100 |     8020 |  9.6500000000 |  0.000000E+00\n"
          ]
        }
      ]
    },
    {
      "cell_type": "markdown",
      "source": [
        "Afișăm cea mai bună soluție găsită de BRKGA:"
      ],
      "metadata": {
        "id": "9ziAqCRC-GNs"
      }
    },
    {
      "cell_type": "code",
      "source": [
        "print(\"\\nRezultate BRKGA:\")\n",
        "if results_brkga.X is not None:\n",
        "    # results_brkga.X este vectorul de chei aleatoare pentru cea mai bună soluție\n",
        "    best_random_keys = results_brkga.X\n",
        "    # results_brkga.F este valoarea funcției obiectiv pentru cea mai bună soluție\n",
        "    best_fitness_value = results_brkga.F[0]\n",
        "\n",
        "    # Decodificăm cheile pentru a obține permutația\n",
        "    best_permutation_brkga = decode_random_keys_to_permutation(best_random_keys)\n",
        "\n",
        "    print(f\"Cele mai bune chei aleatoare găsite: {np.round(best_random_keys, 3)}\")\n",
        "    print(f\"Permutația decodificată: {best_permutation_brkga}\")\n",
        "    print(f\"Fitness (conflicte): {best_fitness_value}\")\n",
        "\n",
        "    if best_fitness_value == 0:\n",
        "        print(\"Soluție optimă găsită!\")\n",
        "    else:\n",
        "        print(\"Soluție sub-optimă găsită.\")\n",
        "\n",
        "    print(\"\\nConfigurația pe tabla de șah:\")\n",
        "    displayBoard(best_permutation_brkga) # Reutilizăm funcția de afișare\n",
        "else:\n",
        "    print(\"BRKGA nu a returnat o soluție (posibil eroare sau nicio soluție fezabilă în contextul dat).\")"
      ],
      "metadata": {
        "colab": {
          "base_uri": "https://localhost:8080/"
        },
        "id": "_TG8TBYx-BU9",
        "outputId": "ac023001-8b27-47e6-a686-8fcc6d73271f"
      },
      "execution_count": null,
      "outputs": [
        {
          "output_type": "stream",
          "name": "stdout",
          "text": [
            "\n",
            "Rezultate BRKGA:\n",
            "Cele mai bune chei aleatoare găsite: [0.124 0.279 0.586 0.97  0.17  0.019 0.801 0.421]\n",
            "Permutația decodificată: [5, 0, 4, 1, 7, 2, 6, 3]\n",
            "Fitness (conflicte): 0.0\n",
            "Soluție optimă găsită!\n",
            "\n",
            "Configurația pe tabla de șah:\n",
            ". Q . . . . . .\n",
            ". . . Q . . . .\n",
            ". . . . . Q . .\n",
            ". . . . . . . Q\n",
            ". . Q . . . . .\n",
            "Q . . . . . . .\n",
            ". . . . . . Q .\n",
            ". . . . Q . . .\n",
            "---------------\n"
          ]
        }
      ]
    },
    {
      "cell_type": "markdown",
      "source": [
        "Comparativ cu reprezentarea directă prin permutări folosită în DEAP, BRKGA cu chei aleatoare oferă avantajul că operatorii de încrucișare standard (cum ar fi cel uniform parametrizat, specific BRKGA) pot fi aplicați direct pe vectorii de chei aleatoare, generând mereu urmași valizi (care decodifică la permutări valide). Aceasta simplifică designul algoritmului, deoarece nu este nevoie de operatori de încrucișare specializați pentru permutări (precum PMX, CX, OX etc.). Dezavantajul ar putea fi un efort computațional suplimentar necesar pentru decodificarea cheilor în permutări la fiecare evaluare a funcției fitness. Alegerea reprezentării și a algoritmului depinde adesea de specificul problemei și de ușurința implementării.\n",
        "\n",
        "### Alte probleme de optimizare cu reprezentare prin permutări (idei și pentru proiect)\n",
        "\n",
        "Există numeroase [probleme interesante](https://link.springer.com/book/10.1007/978-3-540-92151-6) și cu aplicații practice importante în informatică și optimizare combinatorică în care soluțiile optime sunt [permutări](http://web.fdi.ucm.es/posgrado/conferencias/JosuCeberio2018-slides.pdf). Iată doar câteva exemple:\n",
        "\n",
        "1.  **Problema Comis-Voiajorului (Traveling Salesperson Problem - TSP):** Găsirea celui mai scurt tur care vizitează un set de orașe exact o dată și se întoarce la orașul de start. Soluția este o permutație a orașelor.\n",
        "2.  **Job Scheduling Problem** - problema de programare a joburilor: Avem un set de joburi ce trebuie procesate pe un set de mașini. Scopul este de a găsi o secvență optimă (permutare) a joburilor care minimizează timpul total de finalizare, makespan-ul sau alte criterii. Variantele includ:\n",
        "    *   **Single-Machine Scheduling**: Programarea pe o singură mașină.\n",
        "    *   **Flow Shop Scheduling**: Joburile trec prin mai multe mașini în aceeași ordine.\n",
        "    *   **Job Shop Scheduling**: Joburile trec prin mașini într-o ordine specifică, unică pentru fiecare job.\n",
        "3.  **Vehicle Routing Problem (VRP)** - Problema de rutare a vehiculelor: Generalizare a TSP, găsirea rutelor optime pentru o flotă de vehicule pentru a deservi un set de clienți.\n",
        "4.  **Quadratic Assignment Problem (QAP)** - Problema de alocare pătratică: Alocarea unui set de facilități într-un set de locații pentru a minimiza un cost total bazat pe distanțe și fluxuri între facilități.\n",
        "5.  **Optimal Assembly Line Balancing** - Echilibrarea optimă a liniei de asamblare: Atribuirea sarcinilor la stații de lucru pentru a minimiza timpii morți.\n",
        "6.  **Linear Arrangement Problem** - Problema de aranjare liniară: Ordonarea vârfurilor unui graf pentru a minimiza suma lungimilor muchiilor."
      ],
      "metadata": {
        "id": "vFlfm1Wh-XRy"
      }
    },
    {
      "cell_type": "markdown",
      "source": [
        "# Exerciții\n",
        "\n",
        "1.  **Înțelegerea operatorilor DEAP:**\n",
        "    *   Cum funcționează operatorul de încrucișare `tools.cxPartialyMatched` (PMX) folosit în exemplul DEAP? Descrieți mecanismul său pas cu pas pe un exemplu mic (ex: doi părinți cu 5 gene).\n",
        "    *   Cum funcționează operatorul de mutație `tools.mutShuffleIndexes`? Ce efect are parametrul `indpb`?\n",
        "\n",
        "2.  **Alți operatori pentru permutări:** Ce alți operatori de încrucișare (ex: Order Crossover - OX, Cycle Crossover - CX) și de mutație (ex: Swap Mutation, Insert Mutation, Scramble Mutation) ar fi compatibili cu reprezentarea de tip permutație în DEAP? Descrieți pe scurt cum funcționează unul dintre acești operatori de încrucișare și unul de mutație, la alegere.\n",
        "\n",
        "3.  **Scalabilitatea soluției DEAP pentru N-dame:**\n",
        "    *   Modificați valoarea `NB_QUEENS` în secțiunea DEAP. Până la ce număr de dame (`NB_QUEENS`) puteți obține soluții optime (fitness de 0 conflicte) în mod stabil (adică metoda găsește măcar o soluție optimă la majoritatea rulărilor, să zicem în 2 din 3 rulări), menținând parametrii actuali ai algoritmului (populație de 100, 100 generații)?\n",
        "    *   Documentați încercările și rezultatele.\n",
        "\n",
        "4.  **Scalabilitatea soluției BRKGA pentru N-dame:**\n",
        "    *   Similar exercițiului anterior, modificați `NB_QUEENS_BRKGA` în secțiunea `pymoo`. Până la ce număr de dame puteți obține soluții optime în mod stabil cu BRKGA, menținând parametrii actuali (populație de 100, 100 generații, `bias=0.7`)?\n",
        "    *   Pentru o versiune mai mare a problemei (ex: N=20 sau N=32 dame), experimentați cu mărimea populației (`pop_size_brkga`) și numărul de generații (`termination_brkga`) în BRKGA. Puteți găsi soluții optime? Ce observați legat de timpul de rulare?\n",
        "\n",
        "5.  **Operare manuală cu chei aleatoare:**\n",
        "    *   **Decodificare:** Fie vectorul de chei aleatoare `K = [0.4, 0.8, 0.1, 0.5, 0.2]` pentru `N=5`. Decodificați manual acest vector pentru a obține permutația corespunzătoare. Arătați pașii.\n",
        "    *   **Încrucișare:** Fie doi părinți reprezentați prin chei aleatoare pentru `N=4`:\n",
        "        *   `P1_keys = [0.6, 0.2, 0.9, 0.4]`\n",
        "        *   `P2_keys = [0.3, 0.7, 0.1, 0.8]`\n",
        "        Presupunând o încrucișare uniformă parametrizată cu `p_bias = 0.6` (probabilitatea de a alege gena de la `P1_keys` - considerat părintele de elită) și următorul șir de numere aleatoare `R = [0.5, 0.7, 0.2, 0.9]` (un număr aleator pentru fiecare genă, comparat cu `p_bias`), generați manual vectorul de chei aleatoare al urmașului.\n",
        "\n",
        "6.  **Comparație cu Backtracking:**\n",
        "    *   Cum se compară timpul de rulare al algoritmilor evolutivi (DEAP/BRKGA) pentru problema N-damelor față de o căutare exhaustivă de tip [backtracking](https://www.geeksforgeeks.org/n-queen-problem-backtracking-3/)?\n",
        "    *   Pentru N mic (ex: N=8, N=10), care metodă credeți că ar fi mai rapidă? Dar pentru N mare (ex: N=30, N=50)? Argumentați.\n",
        "    *   Care sunt avantajele și dezavantajele fiecărei abordări (evolutivă vs. backtracking) pentru această problemă?\n",
        "\n",
        "7.  **Modificarea reprezentării în DEAP:**\n",
        "    *   Modificați rezolvarea problemei N-damelor în DEAP, trecând de la o reprezentare de tip permutație la una de tip listă de `N` numere întregi, unde fiecare număr `i` din listă (de la indexul `j`) reprezintă rândul damei de pe coloana `j` (similar cu interpretarea permutației, dar fără constrângerea ca lista să fie o permutație). Valorile din listă pot fi între `0` și `N-1` și se pot repeta.\n",
        "    *   Adaptați funcția de fitness pentru a penaliza și damele aflate pe același rând sau coloană.\n",
        "    *   Folosiți operatori genetici standard pentru liste de întregi (ex: `tools.cxTwoPoint`, `tools.mutUniformInt`).\n",
        "    *   Cum afectează această reprezentare \"mai liberă\" (dar care poate genera soluții cu conflicte pe rânduri, coloane) procesul de căutare și convergența metodei? Comparați cu abordarea bazată pe permutări.\n",
        "\n",
        "8.  **Rezolvarea unei alte probleme:**\n",
        "    *   Alegeți o problemă din lista \"Alte probleme de optimizare cu reprezentare prin permutări\" (sau o altă problemă adecvată, la alegere).\n",
        "    *   Implementați o soluție folosind DEAP cu reprezentare prin permutări.\n",
        "    *   Implementați o soluție folosind `pymoo` cu reprezentare prin chei aleatoare și BRKGA.\n",
        "    *   Comparați cele două abordări din punct de vedere al calității soluțiilor, timpului de convergență și ușurinței implementării pentru problema aleasă. Documentați-vă și prezentați problema, modelarea matematică, funcția de fitness și rezultatele empirice obținute.\n"
      ],
      "metadata": {
        "id": "FTN3f9Hk-pHL"
      }
    },
    {
      "cell_type": "markdown",
      "source": [
        "Ex5.\n",
        "\n",
        "valoare  indice original\n",
        "\n",
        "0.1   |  2\n",
        "\n",
        "0.2   |  4\n",
        "\n",
        "0.4   |  0\n",
        "\n",
        "0.5   |  3\n",
        "\n",
        "0.8   |  1\n",
        "\n",
        "\n",
        "idx  →  0   1   2   3   4\n",
        "\n",
        "rang →  3   5   1   4   2\n",
        "\n",
        "[0.6, 0.7, 0.9, 0.8]"
      ],
      "metadata": {
        "id": "ZlEHftU2RQFR"
      }
    },
    {
      "cell_type": "markdown",
      "source": [
        "Ex6.\n",
        "\n",
        "Pentru N-queens mici (sub 10), backtracking e foarte rapid si gaseste toate solutiile, fara sa ai de ajustat niciun parametru. Insa cand N creste, timpul explodeaza si devine imposibil de folosit. Algoritmii evolutivi, in schimb, lucreaza in timp rezonabil chiar si pentru N mai mari (30, 50), gasind o solutie fara conflicte de fiecare data, desi nu garanteaza ca le gasesc pe toate si trebuie sa alegi valori pentru populatie, mutatie si incrucisare. Astfel, backtrackingul e ideal cand vrei exactitate si N mic, iar evolutionarii sunt mai potriviti cand ai nevoie de o rezolvare rapida la N mari."
      ],
      "metadata": {
        "id": "035vcQy7R7DD"
      }
    }
  ]
}